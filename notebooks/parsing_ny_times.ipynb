{
 "cells": [
  {
   "cell_type": "code",
   "execution_count": 12,
   "id": "403ef204",
   "metadata": {},
   "outputs": [],
   "source": [
    "from bs4 import BeautifulSoup\n",
    "import requests\n",
    "import fake_useragent"
   ]
  },
  {
   "cell_type": "code",
   "execution_count": 2,
   "id": "511d623b",
   "metadata": {},
   "outputs": [],
   "source": [
    "res = requests.get('https://www.nytimes.com/section/world')"
   ]
  },
  {
   "cell_type": "code",
   "execution_count": 4,
   "id": "d871c9d6",
   "metadata": {},
   "outputs": [],
   "source": [
    "soup = BeautifulSoup(res.content)"
   ]
  },
  {
   "cell_type": "code",
   "execution_count": 7,
   "id": "7837ea88",
   "metadata": {},
   "outputs": [
    {
     "data": {
      "text/plain": [
       "'/2023/05/09/world/middleeast/islamic-jihad-israel-gaza.html'"
      ]
     },
     "execution_count": 7,
     "metadata": {},
     "output_type": "execute_result"
    }
   ],
   "source": [
    "soup.find(name='div', attrs={'class': 'css-13mho3u'}).find(name='a').attrs['href']"
   ]
  },
  {
   "cell_type": "code",
   "execution_count": 8,
   "id": "d33a20e6",
   "metadata": {},
   "outputs": [],
   "source": [
    "url = 'https://www.nytimes.com/2023/05/09/world/middleeast/islamic-jihad-israel-gaza.html'"
   ]
  },
  {
   "cell_type": "code",
   "execution_count": 13,
   "id": "c65b67c8",
   "metadata": {},
   "outputs": [],
   "source": [
    "ua = fake_useragent.UserAgent()"
   ]
  },
  {
   "cell_type": "code",
   "execution_count": 14,
   "id": "4e17e73a",
   "metadata": {},
   "outputs": [],
   "source": [
    "headers = {\n",
    "    'User-Agent': ua.random,\n",
    "}"
   ]
  },
  {
   "cell_type": "code",
   "execution_count": 15,
   "id": "43bbd3a9",
   "metadata": {},
   "outputs": [
    {
     "data": {
      "text/plain": [
       "{'User-Agent': 'Mozilla/5.0 (X11; Linux x86_64) AppleWebKit/534.30 (KHTML, like Gecko) Ubuntu/10.04 Chromium/12.0.742.112 Chrome/12.0.742.112 Safari/534.30'}"
      ]
     },
     "execution_count": 15,
     "metadata": {},
     "output_type": "execute_result"
    }
   ],
   "source": [
    "headers"
   ]
  },
  {
   "cell_type": "code",
   "execution_count": 16,
   "id": "702fa6de",
   "metadata": {},
   "outputs": [],
   "source": [
    "article = requests.get(url, headers=headers)"
   ]
  },
  {
   "cell_type": "code",
   "execution_count": 18,
   "id": "9b0eab3f",
   "metadata": {},
   "outputs": [],
   "source": [
    "article_soup = BeautifulSoup(article.content)"
   ]
  },
  {
   "cell_type": "code",
   "execution_count": 21,
   "id": "fa60aaa2",
   "metadata": {},
   "outputs": [
    {
     "data": {
      "text/plain": [
       "'What Is Islamic Jihad and Why Is Israel Targeting It?'"
      ]
     },
     "execution_count": 21,
     "metadata": {},
     "output_type": "execute_result"
    }
   ],
   "source": [
    "article_soup.find(name='h1').text"
   ]
  },
  {
   "cell_type": "code",
   "execution_count": 22,
   "id": "0c90fbd0",
   "metadata": {},
   "outputs": [
    {
     "data": {
      "text/plain": [
       "'A brief guide to the armed group that saw three leaders killed in Israeli airstrikes early Tuesday.'"
      ]
     },
     "execution_count": 22,
     "metadata": {},
     "output_type": "execute_result"
    }
   ],
   "source": [
    "article_soup.find(name='p', attrs={'id': 'article-summary'}).text"
   ]
  },
  {
   "cell_type": "code",
   "execution_count": 30,
   "id": "0c5b37bf",
   "metadata": {},
   "outputs": [
    {
     "data": {
      "text/plain": [
       "'https://static01.nyt.com/images/2023/05/09/multimedia/09israel-gaza-jihad-kplf/09israel-gaza-jihad-kplf-superJumbo.jpg'"
      ]
     },
     "execution_count": 30,
     "metadata": {},
     "output_type": "execute_result"
    }
   ],
   "source": [
    "article_soup.find(name='img').attrs['srcset'].split(',')[-1].split('?')[0]"
   ]
  },
  {
   "cell_type": "code",
   "execution_count": null,
   "id": "313889a2",
   "metadata": {},
   "outputs": [],
   "source": []
  },
  {
   "cell_type": "code",
   "execution_count": null,
   "id": "b9937b68",
   "metadata": {},
   "outputs": [],
   "source": []
  },
  {
   "cell_type": "code",
   "execution_count": null,
   "id": "3a56aebc",
   "metadata": {},
   "outputs": [],
   "source": []
  },
  {
   "cell_type": "code",
   "execution_count": null,
   "id": "e09599ca",
   "metadata": {},
   "outputs": [],
   "source": []
  }
 ],
 "metadata": {
  "kernelspec": {
   "display_name": "Python 3 (ipykernel)",
   "language": "python",
   "name": "python3"
  },
  "language_info": {
   "codemirror_mode": {
    "name": "ipython",
    "version": 3
   },
   "file_extension": ".py",
   "mimetype": "text/x-python",
   "name": "python",
   "nbconvert_exporter": "python",
   "pygments_lexer": "ipython3",
   "version": "3.9.13"
  }
 },
 "nbformat": 4,
 "nbformat_minor": 5
}
